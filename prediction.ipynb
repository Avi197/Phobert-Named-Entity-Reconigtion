{
 "cells": [
  {
   "cell_type": "code",
   "execution_count": 1,
   "id": "acf8160c",
   "metadata": {},
   "outputs": [],
   "source": [
    "from underthesea import sent_tokenize, word_tokenize\n",
    "import torch\n",
    "from transformers import AutoModelForTokenClassification, AutoTokenizer"
   ]
  },
  {
   "cell_type": "code",
   "execution_count": 2,
   "id": "dea4dc40",
   "metadata": {},
   "outputs": [
    {
     "name": "stderr",
     "output_type": "stream",
     "text": [
      "Special tokens have been added in the vocabulary, make sure the associated word embeddings are fine-tuned or trained.\n"
     ]
    }
   ],
   "source": [
    "tokenizer = AutoTokenizer.from_pretrained('vinai/phobert-base', use_fast=False)\n",
    "phobert_ner = AutoModelForTokenClassification.from_pretrained('/opt/github/Phobert-Named-Entity-Reconigtion/phobert-ner-mck')"
   ]
  },
  {
   "cell_type": "code",
   "execution_count": 3,
   "id": "2aabffcd",
   "metadata": {},
   "outputs": [],
   "source": [
    "label_list = [\n",
    "    \"B-CNAME\",\n",
    "    \"B-HNAME\",\n",
    "    \"I-CNAME\",\n",
    "    \"I-HNAME\",\n",
    "    \"MCK\",\n",
    "    \"O\"\n",
    "]"
   ]
  },
  {
   "cell_type": "code",
   "execution_count": 4,
   "id": "d8921820",
   "metadata": {},
   "outputs": [],
   "source": [
    "content = \"Công ty Cổ phần Dầu Thực vật Tường An (mã CK: TAC) đã công bố BCTC quý 1/2022. Cụ thể, doanh thu thuần đạt 1.697 tỷ đồng tăng 7,2% so với cùng kỳ. Tuy nhiên giá vốn hàng bán chiếm tới 94% trong doanh thu khiến lãi gộp chỉ còn hơn 98 tỷ đồng, giảm 55% so với quý 1/2021. Trong kỳ chi phí bán hàng giảm mạnh từ 113,5 tỷ đồng xuống còn hơn 21 tỷ đồng, chi phí QLDN cũng thấp hơn cùng kỳ. Do lãi gộp thấp nên kết quả TAC vẫn báo lãi sau thuế giảm 32% so với cùng kỳ, đạt 53 tỷ đồng – tương đương EPS đạt 1.559 đồng.\""
   ]
  },
  {
   "cell_type": "code",
   "execution_count": 6,
   "id": "657256e1",
   "metadata": {},
   "outputs": [
    {
     "name": "stdout",
     "output_type": "stream",
     "text": [
      "('Công_ty', 'B-CNAME')\n",
      "('Cổ_phần', 'I-CNAME')\n",
      "('Dầu', 'I-CNAME')\n",
      "('Thực_vật', 'I-CNAME')\n",
      "('Tường_@@', 'I-CNAME')\n",
      "('An', 'I-CNAME')\n",
      "('TAC', 'MCK')\n",
      "---------------------------------------------\n",
      "---------------------------------------------\n",
      "---------------------------------------------\n",
      "---------------------------------------------\n",
      "('TAC', 'MCK')\n",
      "---------------------------------------------\n"
     ]
    }
   ],
   "source": [
    "paragraphs = [p for p in content.split(\"\\n\") if p != '']\n",
    "\n",
    "tokenize_sentences = []\n",
    "for paragraph in paragraphs:\n",
    "    sentences = sent_tokenize(paragraph)\n",
    "    for sentence in sentences:\n",
    "        if sentence != '':\n",
    "            tokenize_sentence = word_tokenize(sentence, format=\"text\")\n",
    "            tokenize_sentences.append(tokenize_sentence)\n",
    "\n",
    "for sentence in tokenize_sentences:\n",
    "    list_ids = tokenizer(sentence)['input_ids']\n",
    "    # if sentence is longer than 256 tokens, ignore token 257 onward\n",
    "    # if len(list_ids) >= 256:\n",
    "        # list_ids = list_ids[0:255]\n",
    "    input_ids = torch.tensor([list_ids])\n",
    "\n",
    "    tokens = tokenizer.convert_ids_to_tokens(list_ids)\n",
    "    outputs = phobert_ner(input_ids).logits\n",
    "    predictions = torch.argmax(outputs, dim=2)\n",
    "    for i in [(token, label_list[prediction]) for token, prediction in zip(tokens, predictions[0].numpy())]:\n",
    "        print(i)\n",
    "        if i[1] != 'O':\n",
    "            print(i)\n",
    "    print('---------------------------------------------')"
   ]
  },
  {
   "cell_type": "code",
   "execution_count": null,
   "id": "6e26580a",
   "metadata": {},
   "outputs": [],
   "source": []
  }
 ],
 "metadata": {
  "kernelspec": {
   "display_name": "Python 3 (ipykernel)",
   "language": "python",
   "name": "python3"
  },
  "language_info": {
   "codemirror_mode": {
    "name": "ipython",
    "version": 3
   },
   "file_extension": ".py",
   "mimetype": "text/x-python",
   "name": "python",
   "nbconvert_exporter": "python",
   "pygments_lexer": "ipython3",
   "version": "3.8.13"
  }
 },
 "nbformat": 4,
 "nbformat_minor": 5
}
